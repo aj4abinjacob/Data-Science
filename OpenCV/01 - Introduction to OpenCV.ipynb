{
 "cells": [
  {
   "cell_type": "markdown",
   "metadata": {},
   "source": [
    "## OpenCV\n",
    "OpenCV is a library of programming functions mainly aimed at real-time computer vision. Originally developed by Intel, it was later supported by Willow Garage then Itseez.\n",
    "\n",
    "OpenCV is available in C++,Java and Python"
   ]
  },
  {
   "cell_type": "markdown",
   "metadata": {},
   "source": [
    "### Installation\n",
    "\n",
    "pip install opencv-python <br>\n",
    "pip install opencv-contrib-python"
   ]
  },
  {
   "cell_type": "code",
   "execution_count": 2,
   "metadata": {},
   "outputs": [],
   "source": [
    "#import package\n",
    "import cv2 as cv\n",
    "import numpy as np"
   ]
  },
  {
   "cell_type": "code",
   "execution_count": 47,
   "metadata": {},
   "outputs": [],
   "source": [
    "#Load Image\n",
    "img = cv.imread(\"data/lena.jpg\")"
   ]
  },
  {
   "cell_type": "code",
   "execution_count": 48,
   "metadata": {},
   "outputs": [
    {
     "data": {
      "text/plain": [
       "numpy.ndarray"
      ]
     },
     "execution_count": 48,
     "metadata": {},
     "output_type": "execute_result"
    }
   ],
   "source": [
    "#type of img - every image is a numerical array.\n",
    "type(img)"
   ]
  },
  {
   "cell_type": "code",
   "execution_count": 49,
   "metadata": {},
   "outputs": [
    {
     "data": {
      "text/plain": [
       "(512, 512, 3)"
      ]
     },
     "execution_count": 49,
     "metadata": {},
     "output_type": "execute_result"
    }
   ],
   "source": [
    "#Image Shape\n",
    "img.shape  #Height,Width,Layers(Blue,Green,Red) "
   ]
  },
  {
   "cell_type": "code",
   "execution_count": 50,
   "metadata": {},
   "outputs": [
    {
     "name": "stdout",
     "output_type": "stream",
     "text": [
      "[[117 134 227]\n",
      " [117 134 227]\n",
      " [117 134 227]\n",
      " ...\n",
      " [125 142 229]\n",
      " [104 121 207]\n",
      " [ 89 106 192]]\n"
     ]
    }
   ],
   "source": [
    "print(img[0])"
   ]
  },
  {
   "cell_type": "code",
   "execution_count": 51,
   "metadata": {},
   "outputs": [],
   "source": [
    "#Show Lena Image\n",
    "cv.namedWindow('Lena', cv.WINDOW_AUTOSIZE)\n",
    "cv.imshow('Lena', img)\n",
    "cv.waitKey(10000) #wait 10 seconds\n",
    "cv.destroyAllWindows()"
   ]
  },
  {
   "cell_type": "code",
   "execution_count": 52,
   "metadata": {},
   "outputs": [
    {
     "data": {
      "text/plain": [
       "0"
      ]
     },
     "execution_count": 52,
     "metadata": {},
     "output_type": "execute_result"
    }
   ],
   "source": [
    "\n",
    "img.min()   #0 meaning zero light and 255 meaning maximum light"
   ]
  },
  {
   "cell_type": "code",
   "execution_count": 53,
   "metadata": {},
   "outputs": [
    {
     "data": {
      "text/plain": [
       "255"
      ]
     },
     "execution_count": 53,
     "metadata": {},
     "output_type": "execute_result"
    }
   ],
   "source": [
    "\n",
    "img.max()"
   ]
  },
  {
   "cell_type": "code",
   "execution_count": 54,
   "metadata": {},
   "outputs": [],
   "source": [
    "#Load image as greyscale\n",
    "img_grey = cv.imread(\"data/messi.jpg\", cv.IMREAD_GRAYSCALE)\n",
    "cv.imshow('Messi BW', img_grey)\n",
    "cv.waitKey(10000)\n",
    "cv.destroyAllWindows()"
   ]
  },
  {
   "cell_type": "code",
   "execution_count": 55,
   "metadata": {},
   "outputs": [
    {
     "data": {
      "text/plain": [
       "(750, 1200)"
      ]
     },
     "execution_count": 55,
     "metadata": {},
     "output_type": "execute_result"
    }
   ],
   "source": [
    "img_grey.shape #Height, Width"
   ]
  },
  {
   "cell_type": "code",
   "execution_count": 56,
   "metadata": {},
   "outputs": [
    {
     "data": {
      "text/plain": [
       "900000"
      ]
     },
     "execution_count": 56,
     "metadata": {},
     "output_type": "execute_result"
    }
   ],
   "source": [
    "750*1200"
   ]
  },
  {
   "cell_type": "code",
   "execution_count": 57,
   "metadata": {},
   "outputs": [
    {
     "data": {
      "text/plain": [
       "900000"
      ]
     },
     "execution_count": 57,
     "metadata": {},
     "output_type": "execute_result"
    }
   ],
   "source": [
    "img_grey.size"
   ]
  },
  {
   "cell_type": "code",
   "execution_count": 58,
   "metadata": {},
   "outputs": [],
   "source": [
    "img = cv.imread(\"data/messi.jpg\")"
   ]
  },
  {
   "cell_type": "code",
   "execution_count": 59,
   "metadata": {},
   "outputs": [],
   "source": [
    "#Show Image\n",
    "cv.namedWindow('Messi Normal Image', cv.WINDOW_AUTOSIZE)\n",
    "cv.imshow('Messi photo', img)\n",
    "cv.waitKey(10000)\n",
    "cv.destroyAllWindows()"
   ]
  },
  {
   "cell_type": "code",
   "execution_count": 60,
   "metadata": {},
   "outputs": [],
   "source": [
    "\n",
    "#Show GreyScale Image\n",
    "cv.namedWindow('Messi_Grey', cv.WINDOW_AUTOSIZE)\n",
    "cv.imshow('Messi_Grey', img_grey)\n",
    "cv.waitKey(10000)\n",
    "cv.destroyAllWindows()"
   ]
  },
  {
   "cell_type": "code",
   "execution_count": 61,
   "metadata": {},
   "outputs": [],
   "source": [
    "##Binary Image(#points upto 127 will 0 and greater will be 1)\n",
    "thresh, im_bw = cv.threshold(img_grey, 127, 255,  \n",
    "                               cv.THRESH_BINARY)"
   ]
  },
  {
   "cell_type": "code",
   "execution_count": 62,
   "metadata": {},
   "outputs": [],
   "source": [
    "##Binary Image\n",
    "im_bw = cv.threshold(img_grey, 127, 255, cv.THRESH_BINARY)[1]"
   ]
  },
  {
   "cell_type": "code",
   "execution_count": 63,
   "metadata": {},
   "outputs": [],
   "source": [
    "#Show Binary Image\n",
    "cv.namedWindow('MessiBinary', cv.WINDOW_AUTOSIZE)\n",
    "cv.imshow('Messi_Binary', im_bw)\n",
    "cv.waitKey(10000)\n",
    "cv.destroyAllWindows()"
   ]
  },
  {
   "cell_type": "code",
   "execution_count": 64,
   "metadata": {},
   "outputs": [
    {
     "data": {
      "text/plain": [
       "(750, 1200, 3)"
      ]
     },
     "execution_count": 64,
     "metadata": {},
     "output_type": "execute_result"
    }
   ],
   "source": [
    "img.shape"
   ]
  },
  {
   "cell_type": "code",
   "execution_count": 65,
   "metadata": {},
   "outputs": [],
   "source": [
    "#Accessing pixel intensity values bgr\n",
    "\n",
    "blue = img[:,:,0]\n",
    "green = img[:,:,1]\n",
    "red = img[:,:,2]"
   ]
  },
  {
   "cell_type": "code",
   "execution_count": 66,
   "metadata": {},
   "outputs": [],
   "source": [
    "#Show GreyScale Image\n",
    "cv.namedWindow('Blue Image', cv.WINDOW_AUTOSIZE)\n",
    "cv.imshow('Blue Image', blue)\n",
    "cv.waitKey(5000)\n",
    "cv.destroyAllWindows()"
   ]
  },
  {
   "cell_type": "code",
   "execution_count": 67,
   "metadata": {},
   "outputs": [],
   "source": [
    "#Show GreyScale Image\n",
    "cv.namedWindow('Green Image', cv.WINDOW_AUTOSIZE)\n",
    "cv.imshow('Green Image', green)\n",
    "cv.waitKey(5000)\n",
    "cv.destroyAllWindows()"
   ]
  },
  {
   "cell_type": "code",
   "execution_count": 68,
   "metadata": {},
   "outputs": [],
   "source": [
    "\n",
    "#Show GreyScale Image\n",
    "cv.namedWindow('Red Image', cv.WINDOW_AUTOSIZE)\n",
    "cv.imshow('Red Image', red)\n",
    "cv.waitKey(5000)\n",
    "cv.destroyAllWindows()"
   ]
  },
  {
   "cell_type": "code",
   "execution_count": 69,
   "metadata": {},
   "outputs": [
    {
     "name": "stdout",
     "output_type": "stream",
     "text": [
      "(750, 1200, 3)\n"
     ]
    },
    {
     "data": {
      "text/plain": [
       "array([[[186, 243, 117],\n",
       "        [178,  74,  35],\n",
       "        [206,  84,  73],\n",
       "        ...,\n",
       "        [108, 161, 248],\n",
       "        [200, 105, 181],\n",
       "        [ 81,  28, 199]],\n",
       "\n",
       "       [[ 98, 190,  48],\n",
       "        [231,  61,  10],\n",
       "        [194, 246,  60],\n",
       "        ...,\n",
       "        [239, 140,  71],\n",
       "        [ 52,  26,  92],\n",
       "        [102,  56,  52]],\n",
       "\n",
       "       [[143, 167,  39],\n",
       "        [ 53, 213, 227],\n",
       "        [192, 221,   7],\n",
       "        ...,\n",
       "        [  9,  95,  73],\n",
       "        [234, 124,   0],\n",
       "        [188, 233,   1]],\n",
       "\n",
       "       ...,\n",
       "\n",
       "       [[184, 157, 206],\n",
       "        [134,  87,  80],\n",
       "        [101,  92,  36],\n",
       "        ...,\n",
       "        [ 85, 133,  86],\n",
       "        [230,  92, 154],\n",
       "        [201, 225, 223]],\n",
       "\n",
       "       [[174, 224,   7],\n",
       "        [231,  81, 199],\n",
       "        [133, 186,  36],\n",
       "        ...,\n",
       "        [102, 157,   7],\n",
       "        [246,  60, 135],\n",
       "        [ 55,  83,   2]],\n",
       "\n",
       "       [[215, 122, 238],\n",
       "        [227, 199, 229],\n",
       "        [165,  63, 108],\n",
       "        ...,\n",
       "        [121, 235,  31],\n",
       "        [163, 131, 155],\n",
       "        [203, 166, 116]]], dtype=uint8)"
      ]
     },
     "execution_count": 69,
     "metadata": {},
     "output_type": "execute_result"
    }
   ],
   "source": [
    "new = np.random.randint(255,size=(750,1200,3), dtype=np.uint8) #size = (row, columns, bgr)\n",
    "#This is due to the fact that cv2 uses the type \"uint8\" from numpy. \n",
    "#Therefore, you should define the type when creating the array.\n",
    "print(new.shape)\n",
    "new"
   ]
  },
  {
   "cell_type": "code",
   "execution_count": 70,
   "metadata": {},
   "outputs": [],
   "source": [
    "new_image = cv.namedWindow('Random Image', cv.WINDOW_AUTOSIZE)\n",
    "cv.imshow('Random Image', new)\n",
    "cv.waitKey(10000)\n",
    "cv.destroyAllWindows()"
   ]
  },
  {
   "cell_type": "markdown",
   "metadata": {},
   "source": [
    "### Image Reconstruction"
   ]
  },
  {
   "cell_type": "code",
   "execution_count": 71,
   "metadata": {},
   "outputs": [],
   "source": [
    "recons_image = np.dstack((red,green,blue))\n"
   ]
  },
  {
   "cell_type": "code",
   "execution_count": 72,
   "metadata": {},
   "outputs": [
    {
     "data": {
      "text/plain": [
       "(750, 1200, 3)"
      ]
     },
     "execution_count": 72,
     "metadata": {},
     "output_type": "execute_result"
    }
   ],
   "source": [
    "recons_image.shape"
   ]
  },
  {
   "cell_type": "code",
   "execution_count": 73,
   "metadata": {},
   "outputs": [],
   "source": [
    "#Show GreyScale Image\n",
    "cv.namedWindow('RE Image', cv.WINDOW_AUTOSIZE)\n",
    "cv.imshow('RE Image', recons_image)\n",
    "cv.waitKey(5000)\n",
    "cv.destroyAllWindows()"
   ]
  },
  {
   "cell_type": "code",
   "execution_count": 74,
   "metadata": {},
   "outputs": [
    {
     "data": {
      "text/plain": [
       "(750, 1200, 3)"
      ]
     },
     "execution_count": 74,
     "metadata": {},
     "output_type": "execute_result"
    }
   ],
   "source": [
    "recons_image.shape"
   ]
  },
  {
   "cell_type": "code",
   "execution_count": 75,
   "metadata": {},
   "outputs": [
    {
     "data": {
      "text/plain": [
       "True"
      ]
     },
     "execution_count": 75,
     "metadata": {},
     "output_type": "execute_result"
    }
   ],
   "source": [
    "#Save Image\n",
    "cv.imwrite(\"data/Messi_Grey.jpg\",img_grey)"
   ]
  },
  {
   "cell_type": "code",
   "execution_count": 76,
   "metadata": {},
   "outputs": [
    {
     "data": {
      "text/plain": [
       "True"
      ]
     },
     "execution_count": 76,
     "metadata": {},
     "output_type": "execute_result"
    }
   ],
   "source": [
    "#Save Image\n",
    "cv.imwrite(\"data/Messi_BW.jpg\",im_bw)"
   ]
  },
  {
   "cell_type": "code",
   "execution_count": 77,
   "metadata": {},
   "outputs": [
    {
     "data": {
      "text/plain": [
       "numpy.ndarray"
      ]
     },
     "execution_count": 77,
     "metadata": {},
     "output_type": "execute_result"
    }
   ],
   "source": [
    "#image datatype\n",
    "type(img)"
   ]
  },
  {
   "cell_type": "code",
   "execution_count": null,
   "metadata": {},
   "outputs": [],
   "source": []
  },
  {
   "cell_type": "markdown",
   "metadata": {},
   "source": [
    "### Creating A new Image"
   ]
  },
  {
   "cell_type": "code",
   "execution_count": 24,
   "metadata": {},
   "outputs": [],
   "source": [
    "#new Image - Black Image\n",
    "new_img = np.zeros((750,1200,3)) #with dim"
   ]
  },
  {
   "cell_type": "code",
   "execution_count": 25,
   "metadata": {},
   "outputs": [
    {
     "data": {
      "text/plain": [
       "array([[[0., 0., 0.],\n",
       "        [0., 0., 0.],\n",
       "        [0., 0., 0.],\n",
       "        ...,\n",
       "        [0., 0., 0.],\n",
       "        [0., 0., 0.],\n",
       "        [0., 0., 0.]],\n",
       "\n",
       "       [[0., 0., 0.],\n",
       "        [0., 0., 0.],\n",
       "        [0., 0., 0.],\n",
       "        ...,\n",
       "        [0., 0., 0.],\n",
       "        [0., 0., 0.],\n",
       "        [0., 0., 0.]],\n",
       "\n",
       "       [[0., 0., 0.],\n",
       "        [0., 0., 0.],\n",
       "        [0., 0., 0.],\n",
       "        ...,\n",
       "        [0., 0., 0.],\n",
       "        [0., 0., 0.],\n",
       "        [0., 0., 0.]],\n",
       "\n",
       "       ...,\n",
       "\n",
       "       [[0., 0., 0.],\n",
       "        [0., 0., 0.],\n",
       "        [0., 0., 0.],\n",
       "        ...,\n",
       "        [0., 0., 0.],\n",
       "        [0., 0., 0.],\n",
       "        [0., 0., 0.]],\n",
       "\n",
       "       [[0., 0., 0.],\n",
       "        [0., 0., 0.],\n",
       "        [0., 0., 0.],\n",
       "        ...,\n",
       "        [0., 0., 0.],\n",
       "        [0., 0., 0.],\n",
       "        [0., 0., 0.]],\n",
       "\n",
       "       [[0., 0., 0.],\n",
       "        [0., 0., 0.],\n",
       "        [0., 0., 0.],\n",
       "        ...,\n",
       "        [0., 0., 0.],\n",
       "        [0., 0., 0.],\n",
       "        [0., 0., 0.]]])"
      ]
     },
     "execution_count": 25,
     "metadata": {},
     "output_type": "execute_result"
    }
   ],
   "source": [
    "new_img"
   ]
  },
  {
   "cell_type": "code",
   "execution_count": 26,
   "metadata": {},
   "outputs": [],
   "source": [
    "#Show GreyScale Image\n",
    "cv.namedWindow('New Image', cv.WINDOW_AUTOSIZE)\n",
    "cv.imshow('New Image', new_img)\n",
    "cv.waitKey(2000)\n",
    "cv.destroyAllWindows()"
   ]
  },
  {
   "cell_type": "code",
   "execution_count": 27,
   "metadata": {},
   "outputs": [],
   "source": [
    "#new Image - White Image\n",
    "new_img[:] = 255"
   ]
  },
  {
   "cell_type": "code",
   "execution_count": 28,
   "metadata": {},
   "outputs": [],
   "source": [
    "#Show GreyScale Image\n",
    "cv.namedWindow('New Image', cv.WINDOW_AUTOSIZE)\n",
    "cv.imshow('New Image', new_img)\n",
    "cv.waitKey(5000)\n",
    "cv.destroyAllWindows()"
   ]
  },
  {
   "cell_type": "markdown",
   "metadata": {},
   "source": [
    "### Contrast & Brightness"
   ]
  },
  {
   "cell_type": "markdown",
   "metadata": {},
   "source": [
    "#### Two commonly used point processes are multiplication and addition with a constant: g(x )= αf(x) + β\n",
    "\n",
    "The parameters α>0 and β are often called the gain and bias parameters; sometimes these parameters are said to control contrast and brightness respectively."
   ]
  },
  {
   "cell_type": "code",
   "execution_count": 13,
   "metadata": {},
   "outputs": [],
   "source": [
    "new_image = np.zeros(img.shape, img.dtype)"
   ]
  },
  {
   "cell_type": "code",
   "execution_count": 14,
   "metadata": {},
   "outputs": [],
   "source": [
    "alpha = .5    #Simple contrast control\n",
    "beta = -20   #Simple brightness control"
   ]
  },
  {
   "cell_type": "markdown",
   "metadata": {},
   "source": [
    "### alpha  = 2\n",
    "### beta    = 20\n",
    "\n",
    "#### Actual pixel value (100,100,100)\n",
    "#### Processed value (220,220,220)"
   ]
  },
  {
   "cell_type": "code",
   "execution_count": 15,
   "metadata": {},
   "outputs": [],
   "source": [
    "#for y in range(img.shape[0]):\n",
    "#    for x in range(img.shape[1]):\n",
    "#        for c in range(img.shape[2]):\n",
    "#            new_image[y,x,c] = np.clip(alpha*img[y,x,c] + beta, 0, 255)"
   ]
  },
  {
   "cell_type": "code",
   "execution_count": 16,
   "metadata": {},
   "outputs": [],
   "source": [
    "#Show GreyScale Image\n",
    "cv.namedWindow('New Image', cv.WINDOW_AUTOSIZE)\n",
    "cv.imshow('New Image', new_image)\n",
    "cv.waitKey(5000)\n",
    "cv.destroyAllWindows()"
   ]
  },
  {
   "cell_type": "markdown",
   "metadata": {},
   "source": [
    "### Gamma correction\n",
    "\n",
    "Gamma correction can be used to correct the brightness of an image by using a non linear transformation between the input values and the mapped output values:\n",
    "\n",
    "O = (I/255)^γ * 255\n",
    "\n",
    "When γ<1, the original dark regions will be brighter and the histogram will be shifted to the right whereas it will be the opposite with γ>1."
   ]
  },
  {
   "cell_type": "code",
   "execution_count": 206,
   "metadata": {},
   "outputs": [],
   "source": [
    "gamma = 4\n",
    "lookUpTable = np.empty((1,256), np.uint8)\n",
    "for i in range(256):\n",
    "    lookUpTable[0,i] = np.clip(pow(i / 255.0, gamma) * 255.0, 0, 255)\n",
    "res = cv.LUT(img, lookUpTable)"
   ]
  },
  {
   "cell_type": "code",
   "execution_count": 208,
   "metadata": {},
   "outputs": [],
   "source": [
    "#Show gamma corrected Image\n",
    "cv.namedWindow('gamma Image', cv.WINDOW_AUTOSIZE)\n",
    "cv.imshow('gamma Image', res)\n",
    "cv.waitKey(5000)\n",
    "cv.destroyAllWindows()"
   ]
  },
  {
   "cell_type": "markdown",
   "metadata": {},
   "source": [
    "### Adding (blending) two images using OpenCV"
   ]
  },
  {
   "cell_type": "markdown",
   "metadata": {},
   "source": [
    "##### g(x) = (1−α) f0(x) + αf1(x)"
   ]
  },
  {
   "cell_type": "code",
   "execution_count": 35,
   "metadata": {},
   "outputs": [],
   "source": [
    "img2 = cv.imread(\"data/ground.jpg\")\n",
    "img2 = cv.resize(img2,(img.shape[1],img.shape[0]))\n",
    "\n"
   ]
  },
  {
   "cell_type": "code",
   "execution_count": 36,
   "metadata": {},
   "outputs": [],
   "source": [
    "#Show Blended Image\n",
    "cv.namedWindow('ground Image', cv.WINDOW_AUTOSIZE)\n",
    "cv.imshow('ground Image', img2)\n",
    "cv.waitKey(5000)\n",
    "cv.destroyAllWindows()"
   ]
  },
  {
   "cell_type": "code",
   "execution_count": 37,
   "metadata": {},
   "outputs": [],
   "source": [
    "alpha = 0.9\n",
    "beta = (1.0 - alpha)\n",
    "\n",
    "res = cv.addWeighted(img, alpha, img2, beta, 0.0)"
   ]
  },
  {
   "cell_type": "code",
   "execution_count": 38,
   "metadata": {},
   "outputs": [],
   "source": [
    "#Show Blended Image\n",
    "cv.namedWindow('blended Image', cv.WINDOW_AUTOSIZE)\n",
    "cv.imshow('blended Image', res)\n",
    "cv.waitKey(5000)\n",
    "cv.destroyAllWindows()"
   ]
  },
  {
   "cell_type": "markdown",
   "metadata": {},
   "source": [
    "### Canny Edge"
   ]
  },
  {
   "cell_type": "code",
   "execution_count": 57,
   "metadata": {},
   "outputs": [],
   "source": [
    "edges = cv.Canny(img_grey,150,150)"
   ]
  },
  {
   "cell_type": "code",
   "execution_count": 59,
   "metadata": {},
   "outputs": [],
   "source": [
    "#Show Edges\n",
    "cv.namedWindow('Edges', cv.WINDOW_AUTOSIZE)\n",
    "cv.imshow('Edges', edges)\n",
    "cv.waitKey(5000)\n",
    "cv.destroyAllWindows()"
   ]
  },
  {
   "cell_type": "markdown",
   "metadata": {},
   "source": [
    "### Add Text "
   ]
  },
  {
   "cell_type": "code",
   "execution_count": 17,
   "metadata": {},
   "outputs": [],
   "source": [
    "img_text = img.copy()\n",
    "\n",
    "# font \n",
    "font = cv.FONT_HERSHEY_SIMPLEX \n",
    "  \n",
    "# org \n",
    "org = (225, 225) \n",
    "  \n",
    "# fontScale \n",
    "fontScale = 2\n",
    "   \n",
    "# Blue color in BGR \n",
    "color = (55, 75, 150) \n",
    "  \n",
    "# Line thickness of 2 px \n",
    "thickness = 5\n",
    "   \n",
    "# Using cv2.putText() method \n",
    "img_text = cv.putText(img_text, 'The Goat!', org, font,  \n",
    "                   fontScale, color, thickness, cv.LINE_AA) "
   ]
  },
  {
   "cell_type": "code",
   "execution_count": 18,
   "metadata": {},
   "outputs": [],
   "source": [
    "#Show Text on Image\n",
    "cv.namedWindow('text Image', cv.WINDOW_AUTOSIZE)\n",
    "cv.imshow('text Image', img_text)\n",
    "cv.waitKey(5000)\n",
    "cv.destroyAllWindows()"
   ]
  },
  {
   "cell_type": "markdown",
   "metadata": {},
   "source": [
    "### Gaussian Blur"
   ]
  },
  {
   "cell_type": "code",
   "execution_count": 19,
   "metadata": {},
   "outputs": [],
   "source": [
    "img_blur = cv.GaussianBlur(img,(9,9),0)"
   ]
  },
  {
   "cell_type": "code",
   "execution_count": 20,
   "metadata": {},
   "outputs": [],
   "source": [
    "#Show Blur Image\n",
    "cv.namedWindow('blur Image', cv.WINDOW_AUTOSIZE)\n",
    "cv.imshow('blur Image', img_blur)\n",
    "cv.waitKey(2000)\n",
    "cv.destroyAllWindows()"
   ]
  },
  {
   "cell_type": "markdown",
   "metadata": {},
   "source": [
    "### Dilation and erosion are two fundamental morphological operations. Dilation adds pixels to the boundaries of objects in an image, while erosion removes pixels on object boundaries. The number of pixels added or removed from the objects in an image depends on the size and shape of the structuring element used to process the image."
   ]
  },
  {
   "cell_type": "code",
   "execution_count": 27,
   "metadata": {},
   "outputs": [],
   "source": [
    "#Load Image\n",
    "img = cv.imread(\"data/j2.png\")"
   ]
  },
  {
   "cell_type": "code",
   "execution_count": 28,
   "metadata": {},
   "outputs": [],
   "source": [
    "#Show actual Image\n",
    "cv.namedWindow('actual Image', cv.WINDOW_AUTOSIZE)\n",
    "cv.imshow('actual Image', img)\n",
    "cv.waitKey(5000)\n",
    "cv.destroyAllWindows()"
   ]
  },
  {
   "cell_type": "markdown",
   "metadata": {},
   "source": [
    "### Image Dilation"
   ]
  },
  {
   "cell_type": "code",
   "execution_count": 45,
   "metadata": {},
   "outputs": [],
   "source": [
    "# creating kernals\n",
    "kernal = np.ones((5,5),np.uint8)\n",
    "img_dilate = cv.dilate(img,kernal,iterations = 1)"
   ]
  },
  {
   "cell_type": "code",
   "execution_count": 46,
   "metadata": {},
   "outputs": [],
   "source": [
    "#Show dilation Image\n",
    "cv.namedWindow('dilate Image', cv.WINDOW_AUTOSIZE)\n",
    "cv.imshow('dilate Image', img_dilate)\n",
    "cv.waitKey(5000)\n",
    "cv.destroyAllWindows()"
   ]
  },
  {
   "cell_type": "markdown",
   "metadata": {},
   "source": [
    "### Image Erosion"
   ]
  },
  {
   "cell_type": "code",
   "execution_count": 31,
   "metadata": {},
   "outputs": [],
   "source": [
    "# creating kernals\n",
    "kernal = np.ones((5,5),np.uint8) #25 pixels at a time left-top to right-bottom\n",
    "img_erode = cv.erode(img,kernal,iterations = 1)"
   ]
  },
  {
   "cell_type": "code",
   "execution_count": 32,
   "metadata": {},
   "outputs": [],
   "source": [
    "#Show Erode Image\n",
    "cv.namedWindow('erode Image', cv.WINDOW_AUTOSIZE)\n",
    "cv.imshow('erode Image', img_erode)\n",
    "cv.waitKey(2000)\n",
    "cv.destroyAllWindows()"
   ]
  },
  {
   "cell_type": "code",
   "execution_count": 33,
   "metadata": {},
   "outputs": [],
   "source": [
    "#Re dialating\n",
    "kernal = np.ones((5,5),np.uint8)\n",
    "img_redialate = cv.dilate(img_erode,kernal,iterations = 1)"
   ]
  },
  {
   "cell_type": "code",
   "execution_count": 47,
   "metadata": {},
   "outputs": [],
   "source": [
    "#Show Erode Image\n",
    "cv.namedWindow('Image Redialtion', cv.WINDOW_AUTOSIZE)\n",
    "cv.imshow('Image Redialtion', img_redialate)\n",
    "cv.waitKey(2000)\n",
    "cv.destroyAllWindows()"
   ]
  },
  {
   "cell_type": "markdown",
   "metadata": {},
   "source": [
    "## opening - morphologyEx\n",
    "\n",
    "Opening is just another name of erosion followed by dilation. It is useful in removing noise"
   ]
  },
  {
   "cell_type": "code",
   "execution_count": 43,
   "metadata": {},
   "outputs": [],
   "source": [
    "opening = cv.morphologyEx(img, cv.MORPH_OPEN, kernal)"
   ]
  },
  {
   "cell_type": "code",
   "execution_count": 44,
   "metadata": {},
   "outputs": [],
   "source": [
    "#Show opening Image\n",
    "cv.namedWindow('opening Image', cv.WINDOW_AUTOSIZE)\n",
    "cv.imshow('opening Image', opening)\n",
    "cv.waitKey(5000)\n",
    "cv.destroyAllWindows()"
   ]
  },
  {
   "cell_type": "markdown",
   "metadata": {},
   "source": [
    "### Closing  - morphologyEx\n",
    "\n",
    "Closing is reverse of Opening, Dilation followed by Erosion. It is useful in closing small holes inside the foreground objects, or small black points on the object."
   ]
  },
  {
   "cell_type": "code",
   "execution_count": 41,
   "metadata": {},
   "outputs": [],
   "source": [
    "closing = cv.morphologyEx(img, cv.MORPH_CLOSE, kernal)"
   ]
  },
  {
   "cell_type": "code",
   "execution_count": 42,
   "metadata": {},
   "outputs": [],
   "source": [
    "#Show closing Image\n",
    "cv.namedWindow('closing Image', cv.WINDOW_AUTOSIZE)\n",
    "cv.imshow('closing Image', closing)\n",
    "cv.waitKey(5000)\n",
    "cv.destroyAllWindows()"
   ]
  },
  {
   "cell_type": "code",
   "execution_count": 49,
   "metadata": {},
   "outputs": [],
   "source": [
    "#END"
   ]
  }
 ],
 "metadata": {
  "kernelspec": {
   "display_name": "Python 3",
   "language": "python",
   "name": "python3"
  },
  "language_info": {
   "codemirror_mode": {
    "name": "ipython",
    "version": 3
   },
   "file_extension": ".py",
   "mimetype": "text/x-python",
   "name": "python",
   "nbconvert_exporter": "python",
   "pygments_lexer": "ipython3",
   "version": "3.8.5"
  }
 },
 "nbformat": 4,
 "nbformat_minor": 2
}
